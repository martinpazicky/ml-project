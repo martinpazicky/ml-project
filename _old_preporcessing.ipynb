{
 "cells": [
  {
   "cell_type": "code",
   "execution_count": 1,
   "id": "e08ae659",
   "metadata": {},
   "outputs": [],
   "source": [
    "import numpy as np\n",
    "from src.data.io_wrapper import read_raw, write_processed\n",
    "from src.data.preprocessing import minmax_num_atts, impute_missing_dtree\n",
    "from IPython.display import display, HTML\n",
    "from src.common.utility import drop_col\n",
    "\n",
    "def display_df(df):\n",
    "    display(HTML(df.to_html()))\n"
   ]
  },
  {
   "cell_type": "code",
   "execution_count": 2,
   "id": "173f5dd6",
   "metadata": {},
   "outputs": [],
   "source": [
    "df = read_raw('bank_churners.csv')"
   ]
  },
  {
   "cell_type": "code",
   "execution_count": 3,
   "id": "7dbf90ba",
   "metadata": {},
   "outputs": [
    {
     "data": {
      "text/plain": [
       "Index(['CLIENTNUM', 'Attrition_Flag', 'Customer_Age', 'Gender',\n",
       "       'Dependent_count', 'Education_Level', 'Marital_Status',\n",
       "       'Income_Category', 'Card_Category', 'Months_on_book',\n",
       "       'Total_Relationship_Count', 'Months_Inactive_12_mon',\n",
       "       'Contacts_Count_12_mon', 'Credit_Limit', 'Total_Revolving_Bal',\n",
       "       'Avg_Open_To_Buy', 'Total_Amt_Chng_Q4_Q1', 'Total_Trans_Amt',\n",
       "       'Total_Trans_Ct', 'Total_Ct_Chng_Q4_Q1', 'Avg_Utilization_Ratio',\n",
       "       'Naive_Bayes_Classifier_Attrition_Flag_Card_Category_Contacts_Count_12_mon_Dependent_count_Education_Level_Months_Inactive_12_mon_1',\n",
       "       'Naive_Bayes_Classifier_Attrition_Flag_Card_Category_Contacts_Count_12_mon_Dependent_count_Education_Level_Months_Inactive_12_mon_2'],\n",
       "      dtype='object')"
      ]
     },
     "execution_count": 3,
     "metadata": {},
     "output_type": "execute_result"
    }
   ],
   "source": [
    "df.columns"
   ]
  },
  {
   "cell_type": "code",
   "execution_count": 4,
   "id": "7c637020",
   "metadata": {},
   "outputs": [],
   "source": [
    "# irrelevant columns\n",
    "df = drop_col(df, 'Naive_Bayes_Classifier_Attrition_Flag_Card_Category_Contacts_Count_12_mon_Dependent_count_Education_Level_Months_Inactive_12_mon_1')\n",
    "df = drop_col(df, 'Naive_Bayes_Classifier_Attrition_Flag_Card_Category_Contacts_Count_12_mon_Dependent_count_Education_Level_Months_Inactive_12_mon_2')"
   ]
  },
  {
   "cell_type": "markdown",
   "id": "1f553831",
   "metadata": {},
   "source": [
    "Replace unkown with nan"
   ]
  },
  {
   "cell_type": "code",
   "execution_count": 5,
   "id": "0fa6facf",
   "metadata": {},
   "outputs": [],
   "source": [
    "df = df.replace('Unknown', np.nan)"
   ]
  },
  {
   "cell_type": "code",
   "execution_count": 6,
   "id": "af9bf3a9",
   "metadata": {},
   "outputs": [
    {
     "data": {
      "text/plain": [
       "CLIENTNUM                      0\n",
       "Attrition_Flag                 0\n",
       "Customer_Age                   0\n",
       "Gender                         0\n",
       "Dependent_count                0\n",
       "Education_Level             1519\n",
       "Marital_Status               749\n",
       "Income_Category             1112\n",
       "Card_Category                  0\n",
       "Months_on_book                 0\n",
       "Total_Relationship_Count       0\n",
       "Months_Inactive_12_mon         0\n",
       "Contacts_Count_12_mon          0\n",
       "Credit_Limit                   0\n",
       "Total_Revolving_Bal            0\n",
       "Avg_Open_To_Buy                0\n",
       "Total_Amt_Chng_Q4_Q1           0\n",
       "Total_Trans_Amt                0\n",
       "Total_Trans_Ct                 0\n",
       "Total_Ct_Chng_Q4_Q1            0\n",
       "Avg_Utilization_Ratio          0\n",
       "dtype: int64"
      ]
     },
     "execution_count": 6,
     "metadata": {},
     "output_type": "execute_result"
    }
   ],
   "source": [
    "df.isna().sum()"
   ]
  },
  {
   "cell_type": "markdown",
   "id": "a3e23f6e",
   "metadata": {},
   "source": [
    "Ordinal encoding:\n",
    "(in meta data file)\n",
    "\n",
    "Card category: Blue < Silver < Gold < Platinum\n",
    "\n",
    "Income category: Less than '$40K' < '$40K - $60K' < '$60K - $80K' < '$80K - $120K' < '$120K +'\n",
    "\n",
    "Education level: 'Uneducated' < 'High School' < 'College' < 'Graduate' < 'Post-Graduate' < 'Doctorate'"
   ]
  },
  {
   "cell_type": "code",
   "execution_count": 7,
   "id": "1db86d4f",
   "metadata": {},
   "outputs": [],
   "source": [
    "df['id'] = np.arange(df.shape[0])\n",
    "df = drop_col(df, 'CLIENTNUM')\n",
    "df = drop_col(df,\n",
    "              'Naive_Bayes_Classifier_Attrition_Flag_Card_Category_Contacts_Count_12_mon_Dependent_count_Education_Level_Months_Inactive_12_mon_1')\n",
    "df = drop_col(df,\n",
    "              'Naive_Bayes_Classifier_Attrition_Flag_Card_Category_Contacts_Count_12_mon_Dependent_count_Education_Level_Months_Inactive_12_mon_2')\n",
    "df = df.replace('Unknown', np.nan)\n",
    "\n",
    "col_name = \"id\"\n",
    "first_col = df.pop(col_name)\n",
    "df.insert(0, col_name, first_col)"
   ]
  },
  {
   "cell_type": "code",
   "execution_count": 8,
   "id": "76d93a77",
   "metadata": {},
   "outputs": [],
   "source": [
    "cat_indices = [1, 3, 5, 6, 7, 8]"
   ]
  },
  {
   "cell_type": "code",
   "execution_count": 9,
   "id": "52c5b5ab",
   "metadata": {},
   "outputs": [],
   "source": [
    "imputed = impute_missing_dtree(df, cat_indices, ['Education_Level','Marital_Status','Income_Category'])"
   ]
  },
  {
   "cell_type": "code",
   "execution_count": 10,
   "id": "c1a86573",
   "metadata": {},
   "outputs": [],
   "source": [
    "write_processed('bank_churners.csv', imputed)\n"
   ]
  },
  {
   "cell_type": "code",
   "execution_count": 11,
   "id": "3c5c0dfe",
   "metadata": {},
   "outputs": [
    {
     "data": {
      "text/plain": [
       "Married     4687\n",
       "Single      3943\n",
       "Divorced     748\n",
       "Name: Marital_Status, dtype: int64"
      ]
     },
     "execution_count": 11,
     "metadata": {},
     "output_type": "execute_result"
    }
   ],
   "source": [
    "df['Marital_Status'].value_counts()"
   ]
  },
  {
   "cell_type": "code",
   "execution_count": 12,
   "id": "40c74c80",
   "metadata": {},
   "outputs": [
    {
     "data": {
      "text/plain": [
       "Married     4824\n",
       "Single      4555\n",
       "Divorced     748\n",
       "Name: Marital_Status, dtype: int64"
      ]
     },
     "execution_count": 12,
     "metadata": {},
     "output_type": "execute_result"
    }
   ],
   "source": [
    "imputed['Marital_Status'].value_counts()"
   ]
  },
  {
   "cell_type": "code",
   "execution_count": null,
   "id": "0b5ea6a8",
   "metadata": {},
   "outputs": [],
   "source": []
  }
 ],
 "metadata": {
  "kernelspec": {
   "display_name": "Python 3 (ipykernel)",
   "language": "python",
   "name": "python3"
  },
  "language_info": {
   "codemirror_mode": {
    "name": "ipython",
    "version": 3
   },
   "file_extension": ".py",
   "mimetype": "text/x-python",
   "name": "python",
   "nbconvert_exporter": "python",
   "pygments_lexer": "ipython3",
   "version": "3.8.2"
  }
 },
 "nbformat": 4,
 "nbformat_minor": 5
}
